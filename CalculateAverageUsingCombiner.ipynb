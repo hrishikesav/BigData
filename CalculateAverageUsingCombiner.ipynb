{
  "nbformat": 4,
  "nbformat_minor": 0,
  "metadata": {
    "colab": {
      "name": "CalculateAverageUsingCombiner.ipynb",
      "provenance": [],
      "authorship_tag": "ABX9TyMiT3VWCKD7jFsUrXjTZYRi",
      "include_colab_link": true
    },
    "kernelspec": {
      "name": "python3",
      "display_name": "Python 3"
    }
  },
  "cells": [
    {
      "cell_type": "markdown",
      "metadata": {
        "id": "view-in-github",
        "colab_type": "text"
      },
      "source": [
        "<a href=\"https://colab.research.google.com/github/hrishikesav/BigData/blob/master/CalculateAverageUsingCombiner.ipynb\" target=\"_parent\"><img src=\"https://colab.research.google.com/assets/colab-badge.svg\" alt=\"Open In Colab\"/></a>"
      ]
    },
    {
      "cell_type": "markdown",
      "metadata": {
        "id": "-ARQMuI4t1aY",
        "colab_type": "text"
      },
      "source": [
        "**This program calculates average of input numbers using Combiner**"
      ]
    },
    {
      "cell_type": "code",
      "metadata": {
        "id": "tbdt85h_tzb_",
        "colab_type": "code",
        "colab": {
          "base_uri": "https://localhost:8080/",
          "height": 50
        },
        "outputId": "07035a5c-10dc-47f2-b9e3-ffaa2f6893bc"
      },
      "source": [
        "# Run and print a shell command.\n",
        "def run(cmd):\n",
        "  print('>> {}'.format(cmd))\n",
        "  !{cmd}\n",
        "  print('')\n",
        "\n",
        "# Install apache-beam.\n",
        "run('pip install --quiet apache-beam')"
      ],
      "execution_count": 2,
      "outputs": [
        {
          "output_type": "stream",
          "text": [
            ">> pip install --quiet apache-beam\n",
            "\n"
          ],
          "name": "stdout"
        }
      ]
    },
    {
      "cell_type": "code",
      "metadata": {
        "id": "LNaM2LPluLsY",
        "colab_type": "code",
        "colab": {
          "base_uri": "https://localhost:8080/",
          "height": 50
        },
        "outputId": "45d7fe0d-3c0b-4337-f769-441f0efb5b9d"
      },
      "source": [
        "import apache_beam as beam\n",
        "\n",
        "class AverageFn(beam.CombineFn):\n",
        "\n",
        "  def create_accumulator(self):\n",
        "    return(0.0,0)                 # to initialize to (sum,total)\n",
        "\n",
        "  def add_input(self,sum_count,input_value):\n",
        "    (sum,count) = sum_count\n",
        "    return sum+input_value, count+1\n",
        "\n",
        "  def merge_accumulators(self,accumulators):\n",
        "    sums,counts = zip(*accumulators)\n",
        "    return sum(sums), sum(counts)\n",
        "\n",
        "  def extract_output(self,sum_count):\n",
        "    (sum,count) = sum_count\n",
        "    return sum/count if count else float('NaN')\n",
        "\n",
        "p = beam.Pipeline()\n",
        "\n",
        "avg = (\n",
        "    p\n",
        "    | \"Create list\" >> beam.Create([1,2,3,4,5])\n",
        "    | \"Get avg\" >> beam.CombineGlobally(AverageFn())\n",
        "    | \"Write ouput\" >> beam.io.WriteToText('data/comb')\n",
        ")\n",
        "\n",
        "p.run()\n",
        "\n",
        "!{('head -n 20 data/comb-00000-of-00001')}\n"
      ],
      "execution_count": 10,
      "outputs": [
        {
          "output_type": "stream",
          "text": [
            "WARNING:apache_beam.io.filebasedsink:Deleting 2 existing files in target path matching: -*-of-%(num_shards)05d\n"
          ],
          "name": "stderr"
        },
        {
          "output_type": "stream",
          "text": [
            "3.0\n"
          ],
          "name": "stdout"
        }
      ]
    },
    {
      "cell_type": "markdown",
      "metadata": {
        "id": "N_NTtw8r-S1S",
        "colab_type": "text"
      },
      "source": [
        "**Creating your own Composite transform class**"
      ]
    },
    {
      "cell_type": "code",
      "metadata": {
        "id": "cqVANhFg-baK",
        "colab_type": "code",
        "colab": {
          "base_uri": "https://localhost:8080/",
          "height": 34
        },
        "outputId": "f0409b11-ef22-4766-e3a8-642eb6c2285b"
      },
      "source": [
        "import apache_beam as beam\n",
        "\n",
        "class MyCustomTransform(beam.PTransform):\n",
        "  def expand(self,input):\n",
        "    trans = (\n",
        "        input\n",
        "        | \"Create list\" >> beam.Create([1,2,3,4,5,6])\n",
        "        | \"Get avg\" >> beam.CombineGlobally(AverageFn())\n",
        "        | \"Write ouput\" >> beam.io.WriteToText('data/comb-custom')\n",
        "    )\n",
        "    return trans\n",
        "\n",
        "class AverageFn(beam.CombineFn):\n",
        "\n",
        "  def create_accumulator(self):\n",
        "    return(0.0,0)                 # to initialize to (sum,total)\n",
        "\n",
        "  def add_input(self,sum_count,input_value):\n",
        "    (sum,count) = sum_count\n",
        "    return sum+input_value, count+1\n",
        "\n",
        "  def merge_accumulators(self,accumulators):\n",
        "    sums,counts = zip(*accumulators)\n",
        "    return sum(sums), sum(counts)\n",
        "\n",
        "  def extract_output(self,sum_count):\n",
        "    (sum,count) = sum_count\n",
        "    return sum/count if count else float('NaN')\n",
        "\n",
        "p = beam.Pipeline()\n",
        "\n",
        "avg = (\n",
        "    p\n",
        "    | \"Calling My Custom transform\" >> MyCustomTransform()\n",
        ")\n",
        "\n",
        "p.run()\n",
        "\n",
        "!{('head -n 20 data/comb-custom-00000-of-00001')}\n"
      ],
      "execution_count": 12,
      "outputs": [
        {
          "output_type": "stream",
          "text": [
            "3.5\n"
          ],
          "name": "stdout"
        }
      ]
    }
  ]
}