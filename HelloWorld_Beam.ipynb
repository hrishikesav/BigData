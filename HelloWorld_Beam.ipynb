{
  "nbformat": 4,
  "nbformat_minor": 0,
  "metadata": {
    "colab": {
      "name": "HelloWorld_Beam",
      "provenance": [],
      "authorship_tag": "ABX9TyM++GQ3DpRtXSdO9S8GZYoJ",
      "include_colab_link": true
    },
    "kernelspec": {
      "name": "python3",
      "display_name": "Python 3"
    }
  },
  "cells": [
    {
      "cell_type": "markdown",
      "metadata": {
        "id": "view-in-github",
        "colab_type": "text"
      },
      "source": [
        "<a href=\"https://colab.research.google.com/github/hrishikesav/BigData/blob/master/HelloWorld_Beam.ipynb\" target=\"_parent\"><img src=\"https://colab.research.google.com/assets/colab-badge.svg\" alt=\"Open In Colab\"/></a>"
      ]
    },
    {
      "cell_type": "markdown",
      "metadata": {
        "id": "mwPDW5ipll5L",
        "colab_type": "text"
      },
      "source": [
        "**Import apache-beam**"
      ]
    },
    {
      "cell_type": "code",
      "metadata": {
        "id": "GOOk81Jj_yUy",
        "colab_type": "code",
        "outputId": "3578a4b8-83d4-4ce8-a609-7be79922ed0f",
        "colab": {
          "base_uri": "https://localhost:8080/",
          "height": 50
        }
      },
      "source": [
        "# Run and print a shell command.\n",
        "def run(cmd):\n",
        "  print('>> {}'.format(cmd))\n",
        "  !{cmd}\n",
        "  print('')\n",
        "\n",
        "# Install apache-beam.\n",
        "run('pip install --quiet apache-beam')"
      ],
      "execution_count": 0,
      "outputs": [
        {
          "output_type": "stream",
          "text": [
            ">> pip install --quiet apache-beam\n",
            "\n"
          ],
          "name": "stdout"
        }
      ]
    },
    {
      "cell_type": "markdown",
      "metadata": {
        "id": "iFZWGk2Qltfv",
        "colab_type": "text"
      },
      "source": [
        "**Create a pipeline and run a job to create a file with sameple data**"
      ]
    },
    {
      "cell_type": "code",
      "metadata": {
        "id": "mUpKq4TtVDQ-",
        "colab_type": "code",
        "outputId": "622a7696-0db2-4e10-c5aa-004f3873e018",
        "colab": {
          "base_uri": "https://localhost:8080/",
          "height": 50
        }
      },
      "source": [
        "import apache_beam as beam\n",
        "\n",
        "p1 = beam.Pipeline()\n",
        "\n",
        "lines = (p1\n",
        "         | beam.Create(['Hello','World'])\n",
        "         | beam.io.WriteToText('data/sample.txt')\n",
        "         )\n",
        "p1.run()"
      ],
      "execution_count": 0,
      "outputs": [
        {
          "output_type": "stream",
          "text": [
            "WARNING:apache_beam.io.filebasedsink:Deleting 1 existing files in target path matching: -*-of-%(num_shards)05d\n"
          ],
          "name": "stderr"
        },
        {
          "output_type": "execute_result",
          "data": {
            "text/plain": [
              "<apache_beam.runners.portability.fn_api_runner.RunnerResult at 0x7fbee2cb1048>"
            ]
          },
          "metadata": {
            "tags": []
          },
          "execution_count": 29
        }
      ]
    },
    {
      "cell_type": "markdown",
      "metadata": {
        "id": "8oEPC9Opl1iT",
        "colab_type": "text"
      },
      "source": [
        "**Verify the ouput file**"
      ]
    },
    {
      "cell_type": "code",
      "metadata": {
        "id": "T36haqQwVR3P",
        "colab_type": "code",
        "outputId": "34e1f87e-12f9-41f8-d8f7-c4373eb64553",
        "colab": {
          "base_uri": "https://localhost:8080/",
          "height": 50
        }
      },
      "source": [
        "!cat data/sample.txt-00000-of-00001"
      ],
      "execution_count": 0,
      "outputs": [
        {
          "output_type": "stream",
          "text": [
            "Hello\n",
            "World\n"
          ],
          "name": "stdout"
        }
      ]
    }
  ]
}